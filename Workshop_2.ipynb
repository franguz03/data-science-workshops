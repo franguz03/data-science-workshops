{
 "cells": [
  {
   "cell_type": "markdown",
   "metadata": {},
   "source": [
    "# WorkShop 2\n",
    "\n",
    "Let's play with pandas and answer \"stakeholders\" _questions_.\n",
    "\n",
    "Problems $2-13$ rely on your `Problem 1` answer."
   ]
  },
  {
   "cell_type": "markdown",
   "metadata": {},
   "source": [
    "## Problem  1\n",
    "\n",
    "Load the energy data from the file `assets/Energy Indicators.xls`, which is a list of indicators of [energy supply and renewable electricity production](assets/Energy%20Indicators.xls) from the [United Nations](http://unstats.un.org/unsd/environment/excel_file_tables/2013/Energy%20Indicators.xls) for the year 2013, and should be put into a DataFrame with the variable name of __energy_df__.\n",
    "\n",
    "Keep in mind that this is an _Excel file_, and not a _comma separated values file_. Also, make sure to _exclude_ the footer and header information from the datafile. The first _two columns_ are unneccessary, so you should get rid of them, and you should change the column labels so that the columns are:\n",
    "\n",
    "```python\n",
    "['Country', 'Energy Supply', 'Energy Supply per Capita', '% Renewable]\n",
    "```\n",
    "\n",
    "Convert `Energy Supply` to _gigajoules_ (there are $1000000$ _gigajoules_ in a _petajoule_**). For all countries which have missing data (_e.g._ data with \"...\") make sure this is reflected as `np.NaN` values.\n",
    "\n",
    "Rename the following list of countries (_for use in later questions_):\n",
    "\n",
    "```bash\n",
    "\"Republic of Korea\": \"South Korea\",\n",
    "\"United States of America\": \"United States\",\n",
    "\"United Kingdom of Great Britain and Northern Ireland\": \"United Kingdom\",\n",
    "\"China, Hong Kong Special Administrative Region\": \"Hong Kong\"\n",
    "```\n",
    "\n",
    "There are also several countries with parenthesis in their name. Be sure to _remove these_, e.g. `'Bolivia (Plurinational State of)'` should be `'Bolivia'`. Additionally, there are several countries with _Numeric digits_ in their name. Make sure to remove these as well, e.g. `'Italy9'` should be `'Italy'`. \n",
    "\n",
    "Next, load the GDP data from the file `assets/world_bank.csv`, which is a _csv_ containing countries' GDP from $1960$ to $2015$ from [World Bank](http://data.worldbank.org/indicator/NY.GDP.MKTP.CD). Call this DataFrame __gdp_df__. \n",
    "\n",
    "Make sure to _skip the header_, and _rename_ the following list of countries:\n",
    "\n",
    "```bash\n",
    "\"Korea, Rep.\": \"South Korea\", \n",
    "\"Iran, Islamic Rep.\": \"Iran\",\n",
    "\"Hong Kong SAR, China\": \"Hong Kong\"\n",
    "```\n",
    "\n",
    "Finally, load the [Scimago Journal and Country Rank data for Energy Engineering and Power Technology](http://www.scimagojr.com/countryrank.php?category=2102) from the file `assets/scimagojr-3.xlsx`, which ranks countries based on their _journal contributions_ in the aforementioned area. Call this DataFrame __scimago_df__.\n",
    "\n",
    "Join the _thrgoee datasets_: _energy\\_df_, _gdp\\_df_ and _scimago\\_df_, into a new dataset (using the _intersection_ of _country names_). Use only the _last_ $10$ years ($2006-2015$) of __GDP data__ and only the _top 15 countries_ by __Scimagojr 'Rank'__ (_Rank 1 through 15_). \n",
    "\n",
    "The _index_ of this DataFrame should be the __name__ of the country, and the _columns_ should be:\n",
    "`['Rank', 'Documents', 'Citable documents', 'Citations', 'Self-citations', 'Citations per document', 'H index', 'Energy Supply', 'Energy Supply per Capita', '% Renewable', '2006', '2007', '2008','2009', '2010', '2011', '2012', '2013', '2014', '2015']`.\n",
    "\n",
    "_This function should return a DataFrame with 20 columns and 15 entries, and the rows of the DataFrame should be sorted by \"Rank\"._"
   ]
  },
  {
   "cell_type": "code",
   "execution_count": 16,
   "metadata": {},
   "outputs": [],
   "source": [
    "\n",
    "import pandas as pd\n",
    "import numpy as np\n",
    "import re\n",
    "\n",
    "import numpy as np\n",
    "\n",
    "def convert_float(n: float) -> np.float64:\n",
    "    \"\"\"\n",
    "    Convert the input to a numpy float64.\n",
    "\n",
    "    Parameters:\n",
    "    n (float): The input value to convert.\n",
    "\n",
    "    Returns:\n",
    "    np.float64: The converted float value, or np.NAN if conversion fails.\n",
    "    \"\"\"\n",
    "    try:\n",
    "        return np.float64(n)\n",
    "    except Exception as e:\n",
    "        return np.NAN\n",
    "\n",
    "def convert_int(n: int) -> np.float64:\n",
    "    \"\"\"\n",
    "    Convert the input to a numpy int32 multiplied by 1,000,000.\n",
    "\n",
    "    Parameters:\n",
    "    n (int): The input value to convert.\n",
    "\n",
    "    Returns:\n",
    "    np.float64: The converted int value, or np.NAN if conversion fails.\n",
    "    \"\"\"\n",
    "    try:\n",
    "        return np.int32(n) * 1000000\n",
    "    except Exception as e:\n",
    "        return np.NAN\n",
    "\n",
    "\n",
    "def generate_energy_df() ->pd.DataFrame:\n",
    "    \"\"\"\n",
    "    Generate a DataFrame containing energy indicators data.\n",
    "\n",
    "    Reads data from an Excel file, cleans country names, and applies conversions to certain columns.\n",
    "\n",
    "    Returns:\n",
    "    pd.DataFrame: A DataFrame with energy indicators data.\n",
    "    \"\"\"\n",
    "    energy_indicators_cols=['Country', 'Energy Supply', 'Energy Supply per Capita', '% Renewable']\n",
    "    energy_df =pd.read_excel(\n",
    "                     './assets/Energy Indicators.xls',  # Asegúrate de que la ruta sea correcta\n",
    "                     engine='xlrd',  # Usa 'openpyxl' para archivos .xlsx\n",
    "                     sheet_name='Energy',  # Usar el nombre correcto de la hoja\n",
    "                     names=energy_indicators_cols,\n",
    "                     header=None,\n",
    "                     skiprows=list(range(18)),\n",
    "                     skipfooter=38,\n",
    "                     usecols=[2,3,4,5],\n",
    "                     converters={'energy_df Supply':convert_int, \n",
    "                                 'energy_df Supply per Capita':convert_float,\n",
    "                                 '% Renewable':convert_float\n",
    "                                }\n",
    "                    )\n",
    "    \n",
    "    energy_df['Country'] = energy_df['Country'].apply(lambda x: re.sub(r\"\\s?\\(.*?\\)\", \"\", x))\n",
    "    energy_df['Country'] = energy_df['Country'].apply(lambda x: re.sub(r\"^\\d+|\\d+$\", \"\", x))\n",
    "   \n",
    "    energy_df= energy_df.replace({\"Country\":{r\"^(Republic of Korea).*\": \"South Korea\",\n",
    "                               r'^(United States of America).*':'United States',\n",
    "                               r\"^(United Kingdom of Great Britain and Northern Ireland).*\": \"United Kingdom\",\n",
    "                               r\"^(China, Hong Kong Special Administrative Region).*\": \"Hong Kong\"\n",
    "                              }},regex=True)\n",
    "    return energy_df\n",
    "def get_GDP_df() -> pd.DataFrame:\n",
    "    \"\"\"\n",
    "    Generate a DataFrame containing GDP data.\n",
    "\n",
    "    Reads data from a CSV file, renames columns, and standardizes country names.\n",
    "\n",
    "    Returns:\n",
    "    pd.DataFrame: A DataFrame with GDP data.\n",
    "    \"\"\"\n",
    "    gdp_df = pd.read_csv('./assets/world_bank.csv',\n",
    "                    header = None, skiprows = list(range(4)))\n",
    "    gdp_df.columns = gdp_df.iloc[0].astype(str)\n",
    "    gdp_df.rename(columns={'Country Name': 'Country'}, inplace=True)\n",
    "    gdp_df['Country'].replace({\"Korea, Rep.\": \"South Korea\", \n",
    "                            \"Iran, Islamic Rep.\": \"Iran\", \n",
    "                            \"Hong Kong SAR, China\": \"Hong Kong\"}, inplace = True)\n",
    "    gdp_df.rename(columns=lambda x: re.sub(r'\\.0$', '', str(x)), inplace=True)\n",
    "    return gdp_df\n",
    "\n",
    "def get_scimago_df()-> pd.DataFrame:\n",
    "    \"\"\"\n",
    "    Generate a DataFrame containing SCImago Journal Rank (SJR) data.\n",
    "\n",
    "    Reads data from an Excel file.\n",
    "\n",
    "    Returns:\n",
    "    pd.DataFrame: A DataFrame with SCImago Journal Rank data.\n",
    "    \"\"\"\n",
    "    scimago_df = pd.read_excel('./assets/scimagojr-3.xlsx')\n",
    "    return scimago_df\n",
    "\n",
    "def answer_one()-> pd.DataFrame:\n",
    "    \"\"\"\n",
    "    Generate a DataFrame containing data merged from energy, GDP, and SCImago datasets.\n",
    "\n",
    "    The function merges data from three sources, filters the top 15 ranked countries by SCImago,\n",
    "    and selects specific columns.\n",
    "\n",
    "    Returns:\n",
    "    pd.DataFrame: A DataFrame with merged data for the top 15 ranked countries.\n",
    "    \"\"\"\n",
    "    energy_df=generate_energy_df()\n",
    "    gdp_df=get_GDP_df()\n",
    "    scimago_df=get_scimago_df()\n",
    "    join_df = pd.merge(pd.merge(energy_df, gdp_df, on='Country', how='inner'), scimago_df, on='Country', how='inner')\n",
    "    join_df.set_index('Country', inplace=True)\n",
    "    join_df = join_df[['Rank', 'Documents', 'Citable documents', 'Citations', 'Self-citations', 'Citations per document', 'H index', 'Energy Supply', 'Energy Supply per Capita', '% Renewable', '2006', '2007', '2008', '2009', '2010', '2011', '2012', '2013', '2014', '2015']]\n",
    "    join_df=join_df[join_df['Rank'].isin(range(1, 16))]\n",
    "    join_df = join_df.sort_values(by='Rank', ascending=True)\n",
    "    \n",
    "    return join_df"
   ]
  },
  {
   "cell_type": "code",
   "execution_count": 17,
   "metadata": {},
   "outputs": [
    {
     "name": "stderr",
     "output_type": "stream",
     "text": [
      "C:\\Users\\57300\\AppData\\Local\\Temp\\ipykernel_17400\\3791049128.py:85: FutureWarning: A value is trying to be set on a copy of a DataFrame or Series through chained assignment using an inplace method.\n",
      "The behavior will change in pandas 3.0. This inplace method will never work because the intermediate object on which we are setting values always behaves as a copy.\n",
      "\n",
      "For example, when doing 'df[col].method(value, inplace=True)', try using 'df.method({col: value}, inplace=True)' or df[col] = df[col].method(value) instead, to perform the operation inplace on the original object.\n",
      "\n",
      "\n",
      "  gdp_df['Country'].replace({\"Korea, Rep.\": \"South Korea\",\n",
      "C:\\Users\\57300\\AppData\\Local\\Temp\\ipykernel_17400\\3791049128.py:85: FutureWarning: A value is trying to be set on a copy of a DataFrame or Series through chained assignment using an inplace method.\n",
      "The behavior will change in pandas 3.0. This inplace method will never work because the intermediate object on which we are setting values always behaves as a copy.\n",
      "\n",
      "For example, when doing 'df[col].method(value, inplace=True)', try using 'df.method({col: value}, inplace=True)' or df[col] = df[col].method(value) instead, to perform the operation inplace on the original object.\n",
      "\n",
      "\n",
      "  gdp_df['Country'].replace({\"Korea, Rep.\": \"South Korea\",\n",
      "C:\\Users\\57300\\AppData\\Local\\Temp\\ipykernel_17400\\3791049128.py:85: FutureWarning: A value is trying to be set on a copy of a DataFrame or Series through chained assignment using an inplace method.\n",
      "The behavior will change in pandas 3.0. This inplace method will never work because the intermediate object on which we are setting values always behaves as a copy.\n",
      "\n",
      "For example, when doing 'df[col].method(value, inplace=True)', try using 'df.method({col: value}, inplace=True)' or df[col] = df[col].method(value) instead, to perform the operation inplace on the original object.\n",
      "\n",
      "\n",
      "  gdp_df['Country'].replace({\"Korea, Rep.\": \"South Korea\",\n"
     ]
    },
    {
     "name": "stdout",
     "output_type": "stream",
     "text": [
      "                    Rank  Documents  Citable documents  Citations  \\\n",
      "Country                                                             \n",
      "China                  1     127050             126767     597237   \n",
      "United States          2      96661              94747     792274   \n",
      "Japan                  3      30504              30287     223024   \n",
      "United Kingdom         4      20944              20357     206091   \n",
      "Russian Federation     5      18534              18301      34266   \n",
      "Canada                 6      17899              17620     215003   \n",
      "Germany                7      17027              16831     140566   \n",
      "India                  8      15005              14841     128763   \n",
      "France                 9      13153              12973     130632   \n",
      "South Korea           10      11983              11923     114675   \n",
      "Italy                 11      10964              10794     111850   \n",
      "Spain                 12       9428               9330     123336   \n",
      "Iran                  13       8896               8819      57470   \n",
      "Australia             14       8831               8725      90765   \n",
      "Brazil                15       8668               8596      60702   \n",
      "\n",
      "                    Self-citations  Citations per document  H index  \\\n",
      "Country                                                               \n",
      "China                       411683                    4.70      138   \n",
      "United States               265436                    8.20      230   \n",
      "Japan                        61554                    7.31      134   \n",
      "United Kingdom               37874                    9.84      139   \n",
      "Russian Federation           12422                    1.85       57   \n",
      "Canada                       40930                   12.01      149   \n",
      "Germany                      27426                    8.26      126   \n",
      "India                        37209                    8.58      115   \n",
      "France                       28601                    9.93      114   \n",
      "South Korea                  22595                    9.57      104   \n",
      "Italy                        26661                   10.20      106   \n",
      "Spain                        23964                   13.08      115   \n",
      "Iran                         19125                    6.46       72   \n",
      "Australia                    15606                   10.28      107   \n",
      "Brazil                       14396                    7.00       86   \n",
      "\n",
      "                   Energy Supply Energy Supply per Capita  % Renewable  \\\n",
      "Country                                                                  \n",
      "China                     127191                       93    19.754910   \n",
      "United States              90838                      286    11.570980   \n",
      "Japan                      18984                      149    10.232820   \n",
      "United Kingdom              7920                      124    10.600470   \n",
      "Russian Federation         30709                      214    17.288680   \n",
      "Canada                     10431                      296    61.945430   \n",
      "Germany                    13261                      165    17.901530   \n",
      "India                      33195                       26    14.969080   \n",
      "France                     10597                      166    17.020280   \n",
      "South Korea                11007                      221     2.279353   \n",
      "Italy                       6530                      109    33.667230   \n",
      "Spain                       4923                      106    37.968590   \n",
      "Iran                        9172                      119     5.707721   \n",
      "Australia                   5386                      231    11.810810   \n",
      "Brazil                     12149                       59    69.648030   \n",
      "\n",
      "                            2006          2007          2008          2009  \\\n",
      "Country                                                                      \n",
      "China               3.992331e+12  4.559041e+12  4.997775e+12  5.459247e+12   \n",
      "United States       1.479230e+13  1.505540e+13  1.501149e+13  1.459484e+13   \n",
      "Japan               5.496542e+12  5.617036e+12  5.558527e+12  5.251308e+12   \n",
      "United Kingdom      2.419631e+12  2.482203e+12  2.470614e+12  2.367048e+12   \n",
      "Russian Federation  1.385793e+12  1.504071e+12  1.583004e+12  1.459199e+12   \n",
      "Canada              1.564469e+12  1.596740e+12  1.612713e+12  1.565145e+12   \n",
      "Germany             3.332891e+12  3.441561e+12  3.478809e+12  3.283340e+12   \n",
      "India               1.265894e+12  1.374865e+12  1.428361e+12  1.549483e+12   \n",
      "France              2.607840e+12  2.669424e+12  2.674637e+12  2.595967e+12   \n",
      "South Korea         9.410199e+11  9.924316e+11  1.020510e+12  1.027730e+12   \n",
      "Italy               2.202170e+12  2.234627e+12  2.211154e+12  2.089938e+12   \n",
      "Spain               1.414823e+12  1.468146e+12  1.484530e+12  1.431475e+12   \n",
      "Iran                3.895523e+11  4.250646e+11  4.289909e+11  4.389208e+11   \n",
      "Australia           1.021939e+12  1.060340e+12  1.099644e+12  1.119654e+12   \n",
      "Brazil              1.845080e+12  1.957118e+12  2.056809e+12  2.054215e+12   \n",
      "\n",
      "                            2010          2011          2012          2013  \\\n",
      "Country                                                                      \n",
      "China               6.039659e+12  6.612490e+12  7.124978e+12  7.672448e+12   \n",
      "United States       1.496437e+13  1.520402e+13  1.554216e+13  1.577367e+13   \n",
      "Japan               5.498718e+12  5.473738e+12  5.569102e+12  5.644659e+12   \n",
      "United Kingdom      2.403504e+12  2.450911e+12  2.479809e+12  2.533370e+12   \n",
      "Russian Federation  1.524917e+12  1.589943e+12  1.645876e+12  1.666934e+12   \n",
      "Canada              1.613406e+12  1.664087e+12  1.693133e+12  1.730688e+12   \n",
      "Germany             3.417298e+12  3.542371e+12  3.556724e+12  3.567317e+12   \n",
      "India               1.708459e+12  1.821872e+12  1.924235e+12  2.051982e+12   \n",
      "France              2.646995e+12  2.702032e+12  2.706968e+12  2.722567e+12   \n",
      "South Korea         1.094499e+12  1.134796e+12  1.160809e+12  1.194429e+12   \n",
      "Italy               2.125185e+12  2.137439e+12  2.077184e+12  2.040871e+12   \n",
      "Spain               1.431673e+12  1.417355e+12  1.380216e+12  1.357139e+12   \n",
      "Iran                4.677902e+11  4.853309e+11  4.532569e+11  4.445926e+11   \n",
      "Australia           1.142251e+12  1.169431e+12  1.211913e+12  1.241484e+12   \n",
      "Brazil              2.208872e+12  2.295245e+12  2.339209e+12  2.409740e+12   \n",
      "\n",
      "                            2014          2015  \n",
      "Country                                         \n",
      "China               8.230121e+12  8.797999e+12  \n",
      "United States       1.615662e+13  1.654857e+13  \n",
      "Japan               5.642884e+12  5.669563e+12  \n",
      "United Kingdom      2.605643e+12  2.666333e+12  \n",
      "Russian Federation  1.678709e+12  1.616149e+12  \n",
      "Canada              1.773486e+12  1.792609e+12  \n",
      "Germany             3.624386e+12  3.685556e+12  \n",
      "India               2.200617e+12  2.367206e+12  \n",
      "France              2.729632e+12  2.761185e+12  \n",
      "South Korea         1.234340e+12  1.266580e+12  \n",
      "Italy               2.033868e+12  2.049316e+12  \n",
      "Spain               1.375605e+12  1.419821e+12  \n",
      "Iran                4.639027e+11           NaN  \n",
      "Australia           1.272520e+12  1.301251e+12  \n",
      "Brazil              2.412231e+12  2.319423e+12  \n"
     ]
    },
    {
     "name": "stderr",
     "output_type": "stream",
     "text": [
      "C:\\Users\\57300\\AppData\\Local\\Temp\\ipykernel_17400\\3791049128.py:85: FutureWarning: A value is trying to be set on a copy of a DataFrame or Series through chained assignment using an inplace method.\n",
      "The behavior will change in pandas 3.0. This inplace method will never work because the intermediate object on which we are setting values always behaves as a copy.\n",
      "\n",
      "For example, when doing 'df[col].method(value, inplace=True)', try using 'df.method({col: value}, inplace=True)' or df[col] = df[col].method(value) instead, to perform the operation inplace on the original object.\n",
      "\n",
      "\n",
      "  gdp_df['Country'].replace({\"Korea, Rep.\": \"South Korea\",\n"
     ]
    }
   ],
   "source": [
    "# example of test cases\n",
    "assert type(answer_one()) == pd.DataFrame, \"Q1: You should return a DataFrame!\"\n",
    "assert answer_one().shape == (15,20), \"Q1: Your DataFrame should have 20 columns and 15 entries!\"\n",
    "assert list(answer_one().columns)==['Rank', 'Documents', 'Citable documents', 'Citations', 'Self-citations', 'Citations per document', 'H index', 'Energy Supply', 'Energy Supply per Capita', '% Renewable', '2006', '2007', '2008', '2009', '2010', '2011', '2012', '2013', '2014', '2015'], 'not the correct columns'\n",
    "print(answer_one().head(15))"
   ]
  },
  {
   "cell_type": "code",
   "execution_count": null,
   "metadata": {},
   "outputs": [],
   "source": [
    "# space for proffesor tests"
   ]
  },
  {
   "cell_type": "markdown",
   "metadata": {},
   "source": [
    "## Problem 2\n",
    "\n",
    "The _Problem 1_ joined three datasets then reduced this to just the top $15$ entries. When you joined the datasets, but before you reduced this to the top $15$ items, how many entries did you lose?\n",
    "\n",
    "_This function should return a single number._"
   ]
  },
  {
   "cell_type": "code",
   "execution_count": 1,
   "metadata": {},
   "outputs": [
    {
     "data": {
      "text/html": [
       "<svg width=\"800\" height=\"300\">\n",
       "  <circle cx=\"150\" cy=\"180\" r=\"80\" fill-opacity=\"0.2\" stroke=\"black\" stroke-width=\"2\" fill=\"blue\" />\n",
       "  <circle cx=\"200\" cy=\"100\" r=\"80\" fill-opacity=\"0.2\" stroke=\"black\" stroke-width=\"2\" fill=\"red\" />\n",
       "  <circle cx=\"100\" cy=\"100\" r=\"80\" fill-opacity=\"0.2\" stroke=\"black\" stroke-width=\"2\" fill=\"green\" />\n",
       "  <line x1=\"150\" y1=\"125\" x2=\"300\" y2=\"150\" stroke=\"black\" stroke-width=\"2\" fill=\"black\" stroke-dasharray=\"5,3\"/>\n",
       "  <text x=\"300\" y=\"165\" font-family=\"Verdana\" font-size=\"35\">Everything but this!</text>\n",
       "</svg>\n"
      ],
      "text/plain": [
       "<IPython.core.display.HTML object>"
      ]
     },
     "metadata": {},
     "output_type": "display_data"
    }
   ],
   "source": [
    "%%HTML\n",
    "<svg width=\"800\" height=\"300\">\n",
    "  <circle cx=\"150\" cy=\"180\" r=\"80\" fill-opacity=\"0.2\" stroke=\"black\" stroke-width=\"2\" fill=\"blue\" />\n",
    "  <circle cx=\"200\" cy=\"100\" r=\"80\" fill-opacity=\"0.2\" stroke=\"black\" stroke-width=\"2\" fill=\"red\" />\n",
    "  <circle cx=\"100\" cy=\"100\" r=\"80\" fill-opacity=\"0.2\" stroke=\"black\" stroke-width=\"2\" fill=\"green\" />\n",
    "  <line x1=\"150\" y1=\"125\" x2=\"300\" y2=\"150\" stroke=\"black\" stroke-width=\"2\" fill=\"black\" stroke-dasharray=\"5,3\"/>\n",
    "  <text x=\"300\" y=\"165\" font-family=\"Verdana\" font-size=\"35\">Everything but this!</text>\n",
    "</svg>"
   ]
  },
  {
   "cell_type": "code",
   "execution_count": 18,
   "metadata": {},
   "outputs": [],
   "source": [
    "def answer_two()-> int:\n",
    "    \"\"\"\n",
    "    Calculate the number of countries in the union of the three datasets but not in their intersection.\n",
    "\n",
    "    The function merges the energy, GDP, and SCImago datasets with an outer join, \n",
    "    and compares it to the intersection of these datasets from answer_one.\n",
    "\n",
    "    Returns:\n",
    "    int: The number of countries in the union of the datasets but not in their intersection.\n",
    "    \"\"\"\n",
    "    full_union = pd.merge(pd.merge(generate_energy_df(), get_GDP_df(), on='Country', how='outer'), get_scimago_df(), on='Country', how='outer')\n",
    "    intersect = answer_one()\n",
    "    return len(full_union)-len(intersect)"
   ]
  },
  {
   "cell_type": "code",
   "execution_count": 20,
   "metadata": {},
   "outputs": [
    {
     "name": "stderr",
     "output_type": "stream",
     "text": [
      "C:\\Users\\57300\\AppData\\Local\\Temp\\ipykernel_17400\\3791049128.py:85: FutureWarning: A value is trying to be set on a copy of a DataFrame or Series through chained assignment using an inplace method.\n",
      "The behavior will change in pandas 3.0. This inplace method will never work because the intermediate object on which we are setting values always behaves as a copy.\n",
      "\n",
      "For example, when doing 'df[col].method(value, inplace=True)', try using 'df.method({col: value}, inplace=True)' or df[col] = df[col].method(value) instead, to perform the operation inplace on the original object.\n",
      "\n",
      "\n",
      "  gdp_df['Country'].replace({\"Korea, Rep.\": \"South Korea\",\n",
      "C:\\Users\\57300\\AppData\\Local\\Temp\\ipykernel_17400\\3791049128.py:85: FutureWarning: A value is trying to be set on a copy of a DataFrame or Series through chained assignment using an inplace method.\n",
      "The behavior will change in pandas 3.0. This inplace method will never work because the intermediate object on which we are setting values always behaves as a copy.\n",
      "\n",
      "For example, when doing 'df[col].method(value, inplace=True)', try using 'df.method({col: value}, inplace=True)' or df[col] = df[col].method(value) instead, to perform the operation inplace on the original object.\n",
      "\n",
      "\n",
      "  gdp_df['Country'].replace({\"Korea, Rep.\": \"South Korea\",\n",
      "C:\\Users\\57300\\AppData\\Local\\Temp\\ipykernel_17400\\3791049128.py:85: FutureWarning: A value is trying to be set on a copy of a DataFrame or Series through chained assignment using an inplace method.\n",
      "The behavior will change in pandas 3.0. This inplace method will never work because the intermediate object on which we are setting values always behaves as a copy.\n",
      "\n",
      "For example, when doing 'df[col].method(value, inplace=True)', try using 'df.method({col: value}, inplace=True)' or df[col] = df[col].method(value) instead, to perform the operation inplace on the original object.\n",
      "\n",
      "\n",
      "  gdp_df['Country'].replace({\"Korea, Rep.\": \"South Korea\",\n",
      "C:\\Users\\57300\\AppData\\Local\\Temp\\ipykernel_17400\\3791049128.py:85: FutureWarning: A value is trying to be set on a copy of a DataFrame or Series through chained assignment using an inplace method.\n",
      "The behavior will change in pandas 3.0. This inplace method will never work because the intermediate object on which we are setting values always behaves as a copy.\n",
      "\n",
      "For example, when doing 'df[col].method(value, inplace=True)', try using 'df.method({col: value}, inplace=True)' or df[col] = df[col].method(value) instead, to perform the operation inplace on the original object.\n",
      "\n",
      "\n",
      "  gdp_df['Country'].replace({\"Korea, Rep.\": \"South Korea\",\n"
     ]
    },
    {
     "name": "stdout",
     "output_type": "stream",
     "text": [
      "305\n"
     ]
    }
   ],
   "source": [
    "# example of test cases\n",
    "print(answer_two())\n",
    "assert type(answer_two()) == int, \"Q2: You should return an int number!\""
   ]
  },
  {
   "cell_type": "code",
   "execution_count": null,
   "metadata": {},
   "outputs": [],
   "source": [
    "# space for proffesor tests"
   ]
  },
  {
   "cell_type": "markdown",
   "metadata": {},
   "source": [
    "## Problem 3\n",
    "\n",
    "What are the top $15$ countries for average GDP over the last $10$ years?\n",
    "\n",
    "_This function should return a Series named `avg_gdp` with $15$ countries and their average GDP sorted in descending order._"
   ]
  },
  {
   "cell_type": "code",
   "execution_count": 21,
   "metadata": {},
   "outputs": [],
   "source": [
    "def answer_three()-> pd.Series:\n",
    "    \"\"\"\n",
    "    Calculate the average GDP over the years 2006-2015 for the top 15 countries by rank,\n",
    "    and sort them in descending order.\n",
    "\n",
    "    The function calculates the mean GDP for each country over the specified years,\n",
    "    sorts the values in descending order, and returns the result.\n",
    "\n",
    "    Returns:\n",
    "    pd.Series: A Series with the average GDP of the top 15 countries, sorted in descending order.\n",
    "    \"\"\"\n",
    "    top15_gdp = answer_one()\n",
    "    top15_gdp['GDP_avg'] = top15_gdp[['2006','2007','2008','2009','2010','2011',\n",
    "                            '2012','2013','2014','2015']].mean(axis = 1)\n",
    "    avg_gdp = top15_gdp['GDP_avg'].sort_values(ascending = False)\n",
    "    return avg_gdp"
   ]
  },
  {
   "cell_type": "code",
   "execution_count": 50,
   "metadata": {},
   "outputs": [
    {
     "name": "stdout",
     "output_type": "stream",
     "text": [
      "Country\n",
      "United States         1.536434e+13\n",
      "China                 6.348609e+12\n",
      "Japan                 5.542208e+12\n",
      "Germany               3.493025e+12\n",
      "France                2.681725e+12\n",
      "United Kingdom        2.487907e+12\n",
      "Brazil                2.189794e+12\n",
      "Italy                 2.120175e+12\n",
      "India                 1.769297e+12\n",
      "Canada                1.660647e+12\n",
      "Russian Federation    1.565459e+12\n",
      "Spain                 1.418078e+12\n",
      "Australia             1.164043e+12\n",
      "South Korea           1.106715e+12\n",
      "Iran                  4.441558e+11\n",
      "Name: GDP_avg, dtype: float64\n"
     ]
    },
    {
     "name": "stderr",
     "output_type": "stream",
     "text": [
      "C:\\Users\\57300\\AppData\\Local\\Temp\\ipykernel_17400\\3791049128.py:85: FutureWarning: A value is trying to be set on a copy of a DataFrame or Series through chained assignment using an inplace method.\n",
      "The behavior will change in pandas 3.0. This inplace method will never work because the intermediate object on which we are setting values always behaves as a copy.\n",
      "\n",
      "For example, when doing 'df[col].method(value, inplace=True)', try using 'df.method({col: value}, inplace=True)' or df[col] = df[col].method(value) instead, to perform the operation inplace on the original object.\n",
      "\n",
      "\n",
      "  gdp_df['Country'].replace({\"Korea, Rep.\": \"South Korea\",\n",
      "C:\\Users\\57300\\AppData\\Local\\Temp\\ipykernel_17400\\3791049128.py:85: FutureWarning: A value is trying to be set on a copy of a DataFrame or Series through chained assignment using an inplace method.\n",
      "The behavior will change in pandas 3.0. This inplace method will never work because the intermediate object on which we are setting values always behaves as a copy.\n",
      "\n",
      "For example, when doing 'df[col].method(value, inplace=True)', try using 'df.method({col: value}, inplace=True)' or df[col] = df[col].method(value) instead, to perform the operation inplace on the original object.\n",
      "\n",
      "\n",
      "  gdp_df['Country'].replace({\"Korea, Rep.\": \"South Korea\",\n"
     ]
    }
   ],
   "source": [
    "# example of test cases\n",
    "print(answer_three())\n",
    "assert type(answer_three()) == pd.Series, \"Q3: You should return a Series!\""
   ]
  },
  {
   "cell_type": "code",
   "execution_count": 51,
   "metadata": {},
   "outputs": [],
   "source": [
    "# space for proffesor tests"
   ]
  },
  {
   "cell_type": "markdown",
   "metadata": {},
   "source": [
    "# Problem 4\n",
    "\n",
    "By how much had the GDP changed over the $10$ year span for the country with the $6-th$ largest average GDP?\n",
    "\n",
    "_This function should return a single number._"
   ]
  },
  {
   "cell_type": "code",
   "execution_count": 52,
   "metadata": {},
   "outputs": [],
   "source": [
    "def answer_four()-> float:\n",
    "    \"\"\"\n",
    "    Calculate the difference in GDP between 2006 and 2015 for the 6th country \n",
    "    in the list of top 15 countries sorted by average GDP over the years 2006-2015.\n",
    "\n",
    "    The function calculates the mean GDP for each country over the specified years,\n",
    "    sorts the countries by average GDP in descending order, and returns the GDP difference \n",
    "    between 2015 and 2006 for the 6th country in this sorted list.\n",
    "\n",
    "    Returns:\n",
    "    float: The difference in GDP between 2015 and 2006 for the 6th country in the sorted list.\n",
    "    \"\"\"\n",
    "\n",
    "    top15_gdp = answer_one()\n",
    "    top15_gdp['GDP_avg'] = top15_gdp[['2006','2007','2008','2009','2010','2011',\n",
    "                            '2012','2013','2014','2015']].mean(axis = 1)\n",
    "    top15_gdp.sort_values(by='GDP_avg',ascending=False)\n",
    "    final = top15_gdp.iloc[5]['2015']\n",
    "    initial = top15_gdp.iloc[5]['2006']\n",
    "    return float(final - initial)\n"
   ]
  },
  {
   "cell_type": "code",
   "execution_count": 53,
   "metadata": {},
   "outputs": [
    {
     "name": "stderr",
     "output_type": "stream",
     "text": [
      "C:\\Users\\57300\\AppData\\Local\\Temp\\ipykernel_17400\\3791049128.py:85: FutureWarning: A value is trying to be set on a copy of a DataFrame or Series through chained assignment using an inplace method.\n",
      "The behavior will change in pandas 3.0. This inplace method will never work because the intermediate object on which we are setting values always behaves as a copy.\n",
      "\n",
      "For example, when doing 'df[col].method(value, inplace=True)', try using 'df.method({col: value}, inplace=True)' or df[col] = df[col].method(value) instead, to perform the operation inplace on the original object.\n",
      "\n",
      "\n",
      "  gdp_df['Country'].replace({\"Korea, Rep.\": \"South Korea\",\n"
     ]
    },
    {
     "name": "stdout",
     "output_type": "stream",
     "text": [
      "228139911279.3601\n"
     ]
    },
    {
     "name": "stderr",
     "output_type": "stream",
     "text": [
      "C:\\Users\\57300\\AppData\\Local\\Temp\\ipykernel_17400\\3791049128.py:85: FutureWarning: A value is trying to be set on a copy of a DataFrame or Series through chained assignment using an inplace method.\n",
      "The behavior will change in pandas 3.0. This inplace method will never work because the intermediate object on which we are setting values always behaves as a copy.\n",
      "\n",
      "For example, when doing 'df[col].method(value, inplace=True)', try using 'df.method({col: value}, inplace=True)' or df[col] = df[col].method(value) instead, to perform the operation inplace on the original object.\n",
      "\n",
      "\n",
      "  gdp_df['Country'].replace({\"Korea, Rep.\": \"South Korea\",\n"
     ]
    }
   ],
   "source": [
    "# example of test cases\n",
    "print(answer_four())\n",
    "assert type(answer_four()) == float, \"Q4: You should return a single number!\"\n"
   ]
  },
  {
   "cell_type": "code",
   "execution_count": 54,
   "metadata": {},
   "outputs": [],
   "source": [
    "# space for proffesor tests\n"
   ]
  },
  {
   "cell_type": "markdown",
   "metadata": {},
   "source": [
    "## Problem 5\n",
    "\n",
    "What is the _mean energy supply per capita_?\n",
    "\n",
    "_This function should return a single number._"
   ]
  },
  {
   "cell_type": "code",
   "execution_count": 55,
   "metadata": {},
   "outputs": [],
   "source": [
    "def answer_five()-> float:\n",
    "    \"\"\"\n",
    "    Calculate the mean energy supply per capita across the top 15 countries by rank.\n",
    "\n",
    "    The function calculates the mean energy supply per capita for the top 15 countries \n",
    "    by rank and returns the result as a float.\n",
    "\n",
    "    Returns:\n",
    "    float: The mean energy supply per capita across the top 15 countries.\n",
    "    \"\"\"\n",
    "    top15_gdp = answer_one()\n",
    "    return float(top15_gdp['Energy Supply per Capita'].mean())"
   ]
  },
  {
   "cell_type": "code",
   "execution_count": 56,
   "metadata": {},
   "outputs": [
    {
     "name": "stderr",
     "output_type": "stream",
     "text": [
      "C:\\Users\\57300\\AppData\\Local\\Temp\\ipykernel_17400\\3791049128.py:85: FutureWarning: A value is trying to be set on a copy of a DataFrame or Series through chained assignment using an inplace method.\n",
      "The behavior will change in pandas 3.0. This inplace method will never work because the intermediate object on which we are setting values always behaves as a copy.\n",
      "\n",
      "For example, when doing 'df[col].method(value, inplace=True)', try using 'df.method({col: value}, inplace=True)' or df[col] = df[col].method(value) instead, to perform the operation inplace on the original object.\n",
      "\n",
      "\n",
      "  gdp_df['Country'].replace({\"Korea, Rep.\": \"South Korea\",\n",
      "C:\\Users\\57300\\AppData\\Local\\Temp\\ipykernel_17400\\3791049128.py:85: FutureWarning: A value is trying to be set on a copy of a DataFrame or Series through chained assignment using an inplace method.\n",
      "The behavior will change in pandas 3.0. This inplace method will never work because the intermediate object on which we are setting values always behaves as a copy.\n",
      "\n",
      "For example, when doing 'df[col].method(value, inplace=True)', try using 'df.method({col: value}, inplace=True)' or df[col] = df[col].method(value) instead, to perform the operation inplace on the original object.\n",
      "\n",
      "\n",
      "  gdp_df['Country'].replace({\"Korea, Rep.\": \"South Korea\",\n"
     ]
    },
    {
     "name": "stdout",
     "output_type": "stream",
     "text": [
      "157.6\n"
     ]
    }
   ],
   "source": [
    "# example of test cases\n",
    "print(answer_five())\n",
    "assert type(answer_five()) == float, \"Q5: You should return a single number!\""
   ]
  },
  {
   "cell_type": "code",
   "execution_count": 57,
   "metadata": {},
   "outputs": [],
   "source": [
    "# space for proffesor tests"
   ]
  },
  {
   "cell_type": "markdown",
   "metadata": {},
   "source": [
    "## Problem 6\n",
    "\n",
    "What __country__ has the _maximum % Renewable_ and what is the _percentage_?\n",
    "\n",
    "_This function should return a tuple with the name of the country and the percentage._"
   ]
  },
  {
   "cell_type": "code",
   "execution_count": 58,
   "metadata": {},
   "outputs": [],
   "source": [
    "def answer_six()-> tuple:\n",
    "    \"\"\"\n",
    "    Identify the country with the highest percentage of renewable energy (% Renewable).\n",
    "\n",
    "    The function identifies the country with the highest percentage of renewable energy \n",
    "    (% Renewable) among the top 15 countries by rank, and returns a tuple containing \n",
    "    the country name and the corresponding % Renewable value.\n",
    "\n",
    "    Returns:\n",
    "    tuple: A tuple containing the country name and the highest % Renewable value.\n",
    "    \"\"\" \n",
    "    top15_gdp = answer_one()\n",
    "    re_max_country = (top15_gdp['% Renewable'].idxmax(), \n",
    "                      top15_gdp['% Renewable'].max())\n",
    "    return re_max_country"
   ]
  },
  {
   "cell_type": "code",
   "execution_count": 59,
   "metadata": {},
   "outputs": [
    {
     "name": "stderr",
     "output_type": "stream",
     "text": [
      "C:\\Users\\57300\\AppData\\Local\\Temp\\ipykernel_17400\\3791049128.py:85: FutureWarning: A value is trying to be set on a copy of a DataFrame or Series through chained assignment using an inplace method.\n",
      "The behavior will change in pandas 3.0. This inplace method will never work because the intermediate object on which we are setting values always behaves as a copy.\n",
      "\n",
      "For example, when doing 'df[col].method(value, inplace=True)', try using 'df.method({col: value}, inplace=True)' or df[col] = df[col].method(value) instead, to perform the operation inplace on the original object.\n",
      "\n",
      "\n",
      "  gdp_df['Country'].replace({\"Korea, Rep.\": \"South Korea\",\n"
     ]
    },
    {
     "name": "stdout",
     "output_type": "stream",
     "text": [
      "('Brazil', 69.64803)\n"
     ]
    },
    {
     "name": "stderr",
     "output_type": "stream",
     "text": [
      "C:\\Users\\57300\\AppData\\Local\\Temp\\ipykernel_17400\\3791049128.py:85: FutureWarning: A value is trying to be set on a copy of a DataFrame or Series through chained assignment using an inplace method.\n",
      "The behavior will change in pandas 3.0. This inplace method will never work because the intermediate object on which we are setting values always behaves as a copy.\n",
      "\n",
      "For example, when doing 'df[col].method(value, inplace=True)', try using 'df.method({col: value}, inplace=True)' or df[col] = df[col].method(value) instead, to perform the operation inplace on the original object.\n",
      "\n",
      "\n",
      "  gdp_df['Country'].replace({\"Korea, Rep.\": \"South Korea\",\n",
      "C:\\Users\\57300\\AppData\\Local\\Temp\\ipykernel_17400\\3791049128.py:85: FutureWarning: A value is trying to be set on a copy of a DataFrame or Series through chained assignment using an inplace method.\n",
      "The behavior will change in pandas 3.0. This inplace method will never work because the intermediate object on which we are setting values always behaves as a copy.\n",
      "\n",
      "For example, when doing 'df[col].method(value, inplace=True)', try using 'df.method({col: value}, inplace=True)' or df[col] = df[col].method(value) instead, to perform the operation inplace on the original object.\n",
      "\n",
      "\n",
      "  gdp_df['Country'].replace({\"Korea, Rep.\": \"South Korea\",\n"
     ]
    }
   ],
   "source": [
    "# example of test cases\n",
    "print(answer_six())\n",
    "assert type(answer_six()) == tuple, \"Q6: You should return a tuple!\"\n",
    "assert type(answer_six()[0]) == str, \"Q6: The first element in your result should be the name of the country!\""
   ]
  },
  {
   "cell_type": "code",
   "execution_count": 60,
   "metadata": {},
   "outputs": [],
   "source": [
    "# space for proffesor tests"
   ]
  },
  {
   "cell_type": "markdown",
   "metadata": {},
   "source": [
    "## Problem 7\n",
    "\n",
    "Create a new column that is the _ratio of Self-Citations to Total Citations_. \n",
    "What is the _maximum_ value for this new column, and what _country_ has the _highest ratio_?\n",
    "\n",
    "_This function should return a tuple with the name of the country and the ratio._"
   ]
  },
  {
   "cell_type": "code",
   "execution_count": 61,
   "metadata": {},
   "outputs": [],
   "source": [
    "def answer_seven()-> tuple:\n",
    "    \"\"\"\n",
    "    Identify the country with the highest ratio of self-citations to total citations.\n",
    "\n",
    "    The function calculates the ratio of self-citations to total citations for each country \n",
    "    in the top 15 countries by rank, identifies the country with the highest ratio, \n",
    "    and returns a tuple containing the country name and the corresponding ratio value.\n",
    "\n",
    "    Returns:\n",
    "    tuple: A tuple containing the country name and the highest ratio of self-citations to total citations.\n",
    "    \"\"\"\n",
    "    top15_gdp=answer_one()\n",
    "    top15_gdp['radio_self_citations']=top15_gdp['Self-citations']/top15_gdp['Citations']\n",
    "    return (top15_gdp['radio_self_citations'].idxmax(),top15_gdp['radio_self_citations'].max())"
   ]
  },
  {
   "cell_type": "code",
   "execution_count": 62,
   "metadata": {},
   "outputs": [
    {
     "name": "stderr",
     "output_type": "stream",
     "text": [
      "C:\\Users\\57300\\AppData\\Local\\Temp\\ipykernel_17400\\3791049128.py:85: FutureWarning: A value is trying to be set on a copy of a DataFrame or Series through chained assignment using an inplace method.\n",
      "The behavior will change in pandas 3.0. This inplace method will never work because the intermediate object on which we are setting values always behaves as a copy.\n",
      "\n",
      "For example, when doing 'df[col].method(value, inplace=True)', try using 'df.method({col: value}, inplace=True)' or df[col] = df[col].method(value) instead, to perform the operation inplace on the original object.\n",
      "\n",
      "\n",
      "  gdp_df['Country'].replace({\"Korea, Rep.\": \"South Korea\",\n",
      "C:\\Users\\57300\\AppData\\Local\\Temp\\ipykernel_17400\\3791049128.py:85: FutureWarning: A value is trying to be set on a copy of a DataFrame or Series through chained assignment using an inplace method.\n",
      "The behavior will change in pandas 3.0. This inplace method will never work because the intermediate object on which we are setting values always behaves as a copy.\n",
      "\n",
      "For example, when doing 'df[col].method(value, inplace=True)', try using 'df.method({col: value}, inplace=True)' or df[col] = df[col].method(value) instead, to perform the operation inplace on the original object.\n",
      "\n",
      "\n",
      "  gdp_df['Country'].replace({\"Korea, Rep.\": \"South Korea\",\n"
     ]
    },
    {
     "name": "stdout",
     "output_type": "stream",
     "text": [
      "('China', 0.6893126179389422)\n"
     ]
    },
    {
     "name": "stderr",
     "output_type": "stream",
     "text": [
      "C:\\Users\\57300\\AppData\\Local\\Temp\\ipykernel_17400\\3791049128.py:85: FutureWarning: A value is trying to be set on a copy of a DataFrame or Series through chained assignment using an inplace method.\n",
      "The behavior will change in pandas 3.0. This inplace method will never work because the intermediate object on which we are setting values always behaves as a copy.\n",
      "\n",
      "For example, when doing 'df[col].method(value, inplace=True)', try using 'df.method({col: value}, inplace=True)' or df[col] = df[col].method(value) instead, to perform the operation inplace on the original object.\n",
      "\n",
      "\n",
      "  gdp_df['Country'].replace({\"Korea, Rep.\": \"South Korea\",\n"
     ]
    }
   ],
   "source": [
    "# example of test cases\n",
    "print(answer_seven())\n",
    "assert type(answer_seven()) == tuple, \"Q7: You should return a tuple!\"\n",
    "assert type(answer_seven()[0]) == str, \"Q7: The first element in your result should be the name of the country!\""
   ]
  },
  {
   "cell_type": "code",
   "execution_count": 63,
   "metadata": {},
   "outputs": [],
   "source": [
    "# space for proffesor tests"
   ]
  },
  {
   "cell_type": "markdown",
   "metadata": {},
   "source": [
    "## Problem 8\n",
    "\n",
    "Create a column that estimates the _population using Energy Supply_ and _Energy Supply per capita_. \n",
    "What is the _third_ most populous country according to this estimate?\n",
    "\n",
    "_This function should return the name of the country._"
   ]
  },
  {
   "cell_type": "code",
   "execution_count": 64,
   "metadata": {},
   "outputs": [],
   "source": [
    "def answer_eight()-> str:\n",
    "    \"\"\"\n",
    "    Identify the third most populous country based on energy supply and energy supply per capita.\n",
    "\n",
    "    The function calculates the estimated population for each country in the top 15 countries \n",
    "    by rank based on energy supply and energy supply per capita, identifies the country \n",
    "    with the third highest estimated population, and returns its name.\n",
    "\n",
    "    Returns:\n",
    "    str: The name of the third most populous country based on energy supply and energy supply per capita.\n",
    "    \"\"\"\n",
    "\n",
    "    top15_gdp = answer_one()\n",
    "    top15_gdp['population_estimate'] = top15_gdp['Energy Supply']/top15_gdp['Energy Supply per Capita']\n",
    "    population = top15_gdp['population_estimate'].sort_values(ascending = False).index[2]\n",
    "    return population"
   ]
  },
  {
   "cell_type": "code",
   "execution_count": 65,
   "metadata": {},
   "outputs": [
    {
     "name": "stderr",
     "output_type": "stream",
     "text": [
      "C:\\Users\\57300\\AppData\\Local\\Temp\\ipykernel_17400\\3791049128.py:85: FutureWarning: A value is trying to be set on a copy of a DataFrame or Series through chained assignment using an inplace method.\n",
      "The behavior will change in pandas 3.0. This inplace method will never work because the intermediate object on which we are setting values always behaves as a copy.\n",
      "\n",
      "For example, when doing 'df[col].method(value, inplace=True)', try using 'df.method({col: value}, inplace=True)' or df[col] = df[col].method(value) instead, to perform the operation inplace on the original object.\n",
      "\n",
      "\n",
      "  gdp_df['Country'].replace({\"Korea, Rep.\": \"South Korea\",\n"
     ]
    },
    {
     "name": "stdout",
     "output_type": "stream",
     "text": [
      "United States\n"
     ]
    },
    {
     "name": "stderr",
     "output_type": "stream",
     "text": [
      "C:\\Users\\57300\\AppData\\Local\\Temp\\ipykernel_17400\\3791049128.py:85: FutureWarning: A value is trying to be set on a copy of a DataFrame or Series through chained assignment using an inplace method.\n",
      "The behavior will change in pandas 3.0. This inplace method will never work because the intermediate object on which we are setting values always behaves as a copy.\n",
      "\n",
      "For example, when doing 'df[col].method(value, inplace=True)', try using 'df.method({col: value}, inplace=True)' or df[col] = df[col].method(value) instead, to perform the operation inplace on the original object.\n",
      "\n",
      "\n",
      "  gdp_df['Country'].replace({\"Korea, Rep.\": \"South Korea\",\n"
     ]
    }
   ],
   "source": [
    "# example of test cases\n",
    "print(answer_eight())\n",
    "assert type(answer_eight()) == str, \"Q8: You should return the name of the country!\""
   ]
  },
  {
   "cell_type": "code",
   "execution_count": 66,
   "metadata": {},
   "outputs": [],
   "source": [
    "# space for proffesor tests"
   ]
  },
  {
   "cell_type": "markdown",
   "metadata": {},
   "source": [
    "## Problem 9\n",
    "\n",
    "Create a column that estimates the _number of citable documents per person_. \n",
    "\n",
    "What is the correlation between the _number of citable documents per capita_ and the _energy supply per capita_? Use the `.corr()` method, (Pearson's correlation).\n",
    "\n",
    "_This function should return a single number._"
   ]
  },
  {
   "cell_type": "code",
   "execution_count": 67,
   "metadata": {},
   "outputs": [],
   "source": [
    "def answer_nine()-> float:\n",
    "    \"\"\"\n",
    "    Calculate the correlation between citable documents per capita and energy supply per capita.\n",
    "\n",
    "    The function calculates the correlation coefficient between the number of citable documents \n",
    "    per capita and energy supply per capita for each country in the top 15 countries by rank, \n",
    "    and returns the correlation coefficient as a float.\n",
    "\n",
    "    Returns:\n",
    "    float: The correlation coefficient between citable documents per capita and energy supply per capita.\n",
    "    \"\"\"\n",
    "    top15_gdp = answer_one()\n",
    "    top15_gdp['population_estimate'] = top15_gdp['Energy Supply']/top15_gdp['Energy Supply per Capita']\n",
    "    top15_gdp['Citable docs per Capita'] = top15_gdp['Citable documents']/top15_gdp['population_estimate']\n",
    "    correlation = top15_gdp['Citable docs per Capita'].corr(top15_gdp['Energy Supply per Capita'])\n",
    "    return correlation"
   ]
  },
  {
   "cell_type": "code",
   "execution_count": 68,
   "metadata": {},
   "outputs": [
    {
     "name": "stderr",
     "output_type": "stream",
     "text": [
      "C:\\Users\\57300\\AppData\\Local\\Temp\\ipykernel_17400\\3791049128.py:85: FutureWarning: A value is trying to be set on a copy of a DataFrame or Series through chained assignment using an inplace method.\n",
      "The behavior will change in pandas 3.0. This inplace method will never work because the intermediate object on which we are setting values always behaves as a copy.\n",
      "\n",
      "For example, when doing 'df[col].method(value, inplace=True)', try using 'df.method({col: value}, inplace=True)' or df[col] = df[col].method(value) instead, to perform the operation inplace on the original object.\n",
      "\n",
      "\n",
      "  gdp_df['Country'].replace({\"Korea, Rep.\": \"South Korea\",\n"
     ]
    },
    {
     "name": "stdout",
     "output_type": "stream",
     "text": [
      "0.7940010435442945\n"
     ]
    },
    {
     "name": "stderr",
     "output_type": "stream",
     "text": [
      "C:\\Users\\57300\\AppData\\Local\\Temp\\ipykernel_17400\\3791049128.py:85: FutureWarning: A value is trying to be set on a copy of a DataFrame or Series through chained assignment using an inplace method.\n",
      "The behavior will change in pandas 3.0. This inplace method will never work because the intermediate object on which we are setting values always behaves as a copy.\n",
      "\n",
      "For example, when doing 'df[col].method(value, inplace=True)', try using 'df.method({col: value}, inplace=True)' or df[col] = df[col].method(value) instead, to perform the operation inplace on the original object.\n",
      "\n",
      "\n",
      "  gdp_df['Country'].replace({\"Korea, Rep.\": \"South Korea\",\n",
      "C:\\Users\\57300\\AppData\\Local\\Temp\\ipykernel_17400\\3791049128.py:85: FutureWarning: A value is trying to be set on a copy of a DataFrame or Series through chained assignment using an inplace method.\n",
      "The behavior will change in pandas 3.0. This inplace method will never work because the intermediate object on which we are setting values always behaves as a copy.\n",
      "\n",
      "For example, when doing 'df[col].method(value, inplace=True)', try using 'df.method({col: value}, inplace=True)' or df[col] = df[col].method(value) instead, to perform the operation inplace on the original object.\n",
      "\n",
      "\n",
      "  gdp_df['Country'].replace({\"Korea, Rep.\": \"South Korea\",\n"
     ]
    }
   ],
   "source": [
    "# example of test cases\n",
    "print(answer_nine())\n",
    "assert answer_nine() >= -1. and answer_nine() <= 1., \"Q9: A valid correlation should between -1 to 1!\""
   ]
  },
  {
   "cell_type": "code",
   "execution_count": 69,
   "metadata": {},
   "outputs": [],
   "source": [
    "# space for proffesor tests"
   ]
  },
  {
   "cell_type": "markdown",
   "metadata": {},
   "source": [
    "## Problem 10\n",
    "\n",
    "Create a new column with a $1$ if the _country's % Renewable_ value is at or above the median for all countries in the _top 15_, and a $0$ if the _country's % Renewable_ value is below the median.\n",
    "\n",
    "_This function should return a series named `high_renew` whose index is the country name sorted in ascending order of rank._"
   ]
  },
  {
   "cell_type": "code",
   "execution_count": 70,
   "metadata": {},
   "outputs": [],
   "source": [
    "\n",
    "def answer_ten()-> pd.Series:\n",
    "    \"\"\"\n",
    "    Identify countries with high renewable energy (% Renewable) compared to the median.\n",
    "\n",
    "    The function calculates the median of % Renewable energy for the top 15 countries \n",
    "    by rank, assigns a binary indicator (1 for high, 0 for low) based on whether \n",
    "    % Renewable is above or below the median, and returns a Series containing \n",
    "    these binary indicators sorted by rank.\n",
    "\n",
    "    Returns:\n",
    "    pd.Series: A Series containing binary indicators (1 or 0) for high renewable energy, \n",
    "               sorted by rank of the countries.\n",
    "    \"\"\"\n",
    "    top15_gdp = answer_one()\n",
    "    renewable_media = top15_gdp[\"% Renewable\"].median(axis=0)\n",
    "    top15_gdp[\"high_renew\"] = top15_gdp.apply(lambda x: 1 if x[\"% Renewable\"] > renewable_media else 0,axis=1)\n",
    "    top15_gdp.sort_values(by='Rank', inplace=True)\n",
    "    return top15_gdp[\"high_renew\"] "
   ]
  },
  {
   "cell_type": "code",
   "execution_count": 71,
   "metadata": {},
   "outputs": [
    {
     "name": "stdout",
     "output_type": "stream",
     "text": [
      "Country\n",
      "China                 1\n",
      "United States         0\n",
      "Japan                 0\n",
      "United Kingdom        0\n",
      "Russian Federation    1\n",
      "Canada                1\n",
      "Germany               1\n",
      "India                 0\n",
      "France                0\n",
      "South Korea           0\n",
      "Italy                 1\n",
      "Spain                 1\n",
      "Iran                  0\n",
      "Australia             0\n",
      "Brazil                1\n",
      "Name: high_renew, dtype: int64\n"
     ]
    },
    {
     "name": "stderr",
     "output_type": "stream",
     "text": [
      "C:\\Users\\57300\\AppData\\Local\\Temp\\ipykernel_17400\\3791049128.py:85: FutureWarning: A value is trying to be set on a copy of a DataFrame or Series through chained assignment using an inplace method.\n",
      "The behavior will change in pandas 3.0. This inplace method will never work because the intermediate object on which we are setting values always behaves as a copy.\n",
      "\n",
      "For example, when doing 'df[col].method(value, inplace=True)', try using 'df.method({col: value}, inplace=True)' or df[col] = df[col].method(value) instead, to perform the operation inplace on the original object.\n",
      "\n",
      "\n",
      "  gdp_df['Country'].replace({\"Korea, Rep.\": \"South Korea\",\n",
      "C:\\Users\\57300\\AppData\\Local\\Temp\\ipykernel_17400\\3791049128.py:85: FutureWarning: A value is trying to be set on a copy of a DataFrame or Series through chained assignment using an inplace method.\n",
      "The behavior will change in pandas 3.0. This inplace method will never work because the intermediate object on which we are setting values always behaves as a copy.\n",
      "\n",
      "For example, when doing 'df[col].method(value, inplace=True)', try using 'df.method({col: value}, inplace=True)' or df[col] = df[col].method(value) instead, to perform the operation inplace on the original object.\n",
      "\n",
      "\n",
      "  gdp_df['Country'].replace({\"Korea, Rep.\": \"South Korea\",\n",
      "C:\\Users\\57300\\AppData\\Local\\Temp\\ipykernel_17400\\3791049128.py:85: FutureWarning: A value is trying to be set on a copy of a DataFrame or Series through chained assignment using an inplace method.\n",
      "The behavior will change in pandas 3.0. This inplace method will never work because the intermediate object on which we are setting values always behaves as a copy.\n",
      "\n",
      "For example, when doing 'df[col].method(value, inplace=True)', try using 'df.method({col: value}, inplace=True)' or df[col] = df[col].method(value) instead, to perform the operation inplace on the original object.\n",
      "\n",
      "\n",
      "  gdp_df['Country'].replace({\"Korea, Rep.\": \"South Korea\",\n"
     ]
    }
   ],
   "source": [
    "# example of test cases\n",
    "print(answer_ten())\n",
    "assert type(answer_ten()) == pd.Series, \"Q10: You should return a Series!\"\n",
    "assert answer_ten().isin([0, 1]).all(),'the values of the columns are not the indicated'"
   ]
  },
  {
   "cell_type": "code",
   "execution_count": 72,
   "metadata": {},
   "outputs": [],
   "source": [
    "# space for proffesor tests"
   ]
  },
  {
   "cell_type": "markdown",
   "metadata": {},
   "source": [
    "## Problem 11\n",
    "\n",
    "Use the following dictionary to group the _Countries by Continent_, then create a DataFrame that displays the sample size (the number of countries in each continent bin), and the _sum_, _mean_, and _std deviation_ for the estimated population of each country.\n",
    "\n",
    "```python\n",
    "ContinentDict  = {\n",
    "    'China':'Asia', \n",
    "    'United States':'North America', \n",
    "    'Japan':'Asia', \n",
    "    'United Kingdom':'Europe', \n",
    "    'Russian Federation':'Europe', \n",
    "    'Canada':'North America', \n",
    "    'Germany':'Europe', \n",
    "    'India':'Asia',\n",
    "    'France':'Europe', \n",
    "    'South Korea':'Asia', \n",
    "    'Italy':'Europe', \n",
    "    'Spain':'Europe', \n",
    "    'Iran':'Asia',\n",
    "    'Australia':'Australia', \n",
    "    'Brazil':'South America'\n",
    "}\n",
    "```\n",
    "\n",
    "_This function should return a DataFrame with index named Continent `['Asia', 'Australia', 'Europe', 'North America', 'South America']` and columns `['size', 'sum', 'mean', 'std']`_"
   ]
  },
  {
   "cell_type": "code",
   "execution_count": 73,
   "metadata": {},
   "outputs": [],
   "source": [
    "\n",
    "def answer_eleven()-> pd.DataFrame:\n",
    "    \"\"\"\n",
    "    Calculate population statistics grouped by continent for the top 15 countries by GDP rank.\n",
    "\n",
    "    The function assigns each country to a continent based on a predefined dictionary,\n",
    "    calculates the estimated population for each country, groups the data by continent,\n",
    "    and computes the size (number of countries), total population, mean population,\n",
    "    and standard deviation of population for each continent.\n",
    "\n",
    "    Returns:\n",
    "    pd.DataFrame: A DataFrame with population statistics grouped by continent.\n",
    "    \"\"\"\n",
    "    top15_gdp = answer_one()\n",
    "    ContinentDict  = {'China':'Asia', \n",
    "                      'United States':'North America', \n",
    "                      'Japan':'Asia', \n",
    "                      'United Kingdom':'Europe', \n",
    "                      'Russian Federation':'Europe', \n",
    "                      'Canada':'North America', \n",
    "                      'Germany':'Europe', \n",
    "                      'India':'Asia',\n",
    "                      'France':'Europe', \n",
    "                      'South Korea':'Asia', \n",
    "                      'Italy':'Europe', \n",
    "                      'Spain':'Europe', \n",
    "                      'Iran':'Asia',\n",
    "                      'Australia':'Australia', \n",
    "                      'Brazil':'South America'}\n",
    "\n",
    "    top15_gdp['Continent'] = top15_gdp.index.map(ContinentDict)\n",
    "    top15_gdp['population_estimate'] = top15_gdp['Energy Supply'] / top15_gdp['Energy Supply per Capita']\n",
    "    \n",
    "    result = top15_gdp.groupby('Continent')['population_estimate'].agg(['size', 'sum', 'mean', 'std'])\n",
    "    return result\n",
    "   "
   ]
  },
  {
   "cell_type": "code",
   "execution_count": 74,
   "metadata": {},
   "outputs": [
    {
     "name": "stderr",
     "output_type": "stream",
     "text": [
      "C:\\Users\\57300\\AppData\\Local\\Temp\\ipykernel_17400\\3791049128.py:85: FutureWarning: A value is trying to be set on a copy of a DataFrame or Series through chained assignment using an inplace method.\n",
      "The behavior will change in pandas 3.0. This inplace method will never work because the intermediate object on which we are setting values always behaves as a copy.\n",
      "\n",
      "For example, when doing 'df[col].method(value, inplace=True)', try using 'df.method({col: value}, inplace=True)' or df[col] = df[col].method(value) instead, to perform the operation inplace on the original object.\n",
      "\n",
      "\n",
      "  gdp_df['Country'].replace({\"Korea, Rep.\": \"South Korea\",\n",
      "C:\\Users\\57300\\AppData\\Local\\Temp\\ipykernel_17400\\3791049128.py:85: FutureWarning: A value is trying to be set on a copy of a DataFrame or Series through chained assignment using an inplace method.\n",
      "The behavior will change in pandas 3.0. This inplace method will never work because the intermediate object on which we are setting values always behaves as a copy.\n",
      "\n",
      "For example, when doing 'df[col].method(value, inplace=True)', try using 'df.method({col: value}, inplace=True)' or df[col] = df[col].method(value) instead, to perform the operation inplace on the original object.\n",
      "\n",
      "\n",
      "  gdp_df['Country'].replace({\"Korea, Rep.\": \"South Korea\",\n",
      "C:\\Users\\57300\\AppData\\Local\\Temp\\ipykernel_17400\\3791049128.py:85: FutureWarning: A value is trying to be set on a copy of a DataFrame or Series through chained assignment using an inplace method.\n",
      "The behavior will change in pandas 3.0. This inplace method will never work because the intermediate object on which we are setting values always behaves as a copy.\n",
      "\n",
      "For example, when doing 'df[col].method(value, inplace=True)', try using 'df.method({col: value}, inplace=True)' or df[col] = df[col].method(value) instead, to perform the operation inplace on the original object.\n",
      "\n",
      "\n",
      "  gdp_df['Country'].replace({\"Korea, Rep.\": \"South Korea\",\n"
     ]
    },
    {
     "name": "stdout",
     "output_type": "stream",
     "text": [
      "               size          sum        mean         std\n",
      "Continent                                               \n",
      "Asia              5  2898.666387  579.733277  679.097888\n",
      "Australia         1    23.316017   23.316017         NaN\n",
      "Europe            6   457.929667   76.321611   34.647667\n",
      "North America     2   352.855249  176.427625  199.669645\n",
      "South America     1   205.915254  205.915254         NaN\n"
     ]
    },
    {
     "name": "stderr",
     "output_type": "stream",
     "text": [
      "C:\\Users\\57300\\AppData\\Local\\Temp\\ipykernel_17400\\3791049128.py:85: FutureWarning: A value is trying to be set on a copy of a DataFrame or Series through chained assignment using an inplace method.\n",
      "The behavior will change in pandas 3.0. This inplace method will never work because the intermediate object on which we are setting values always behaves as a copy.\n",
      "\n",
      "For example, when doing 'df[col].method(value, inplace=True)', try using 'df.method({col: value}, inplace=True)' or df[col] = df[col].method(value) instead, to perform the operation inplace on the original object.\n",
      "\n",
      "\n",
      "  gdp_df['Country'].replace({\"Korea, Rep.\": \"South Korea\",\n"
     ]
    }
   ],
   "source": [
    "# example of test cases\n",
    "print(answer_eleven())\n",
    "assert type(answer_eleven()) == pd.DataFrame, \"Q11: You should return a DataFrame!\"\n",
    "assert answer_eleven().shape[0] == 5, \"Q11: Wrong row numbers!\"\n",
    "assert answer_eleven().shape[1] == 4, \"Q11: Wrong column numbers!\""
   ]
  },
  {
   "cell_type": "code",
   "execution_count": 75,
   "metadata": {},
   "outputs": [],
   "source": [
    "# space for proffesor tests"
   ]
  },
  {
   "cell_type": "markdown",
   "metadata": {},
   "source": [
    "## Problem 12\n",
    "\n",
    "Cut (check `.cut()` from Pandas) _% Renewable_ into $5$ bins, but in the same column. Group _Top15_ by the _Continent_, as well as these new _% Renewable_ bins. How many countries are in each of these groups? You could check `.size()` as aggregation in group by.\n",
    "\n",
    "_This function should return a Series with a MultiIndex of `Continent`, then the bins for `% Renewable` (in string datatype). Do not include groups with no countries._"
   ]
  },
  {
   "cell_type": "code",
   "execution_count": 76,
   "metadata": {},
   "outputs": [],
   "source": [
    "def answer_twelve()-> pd.Series:\n",
    "    \"\"\"\n",
    "    Calculate the number of countries in each % Renewable bin grouped by continent.\n",
    "\n",
    "    The function assigns each country to a continent based on a predefined dictionary,\n",
    "    categorizes the countries into 5 bins based on % Renewable, and counts the number \n",
    "    of countries in each bin for each continent.\n",
    "\n",
    "    Returns:\n",
    "    pd.Series: A Series with the count of countries in each % Renewable bin \n",
    "               grouped by continent.\n",
    "    \"\"\"\n",
    "    top15_gdp = answer_one()\n",
    "    ContinentDict  = {'China':'Asia', \n",
    "                  'United States':'North America', \n",
    "                  'Japan':'Asia', \n",
    "                  'United Kingdom':'Europe', \n",
    "                  'Russian Federation':'Europe', \n",
    "                  'Canada':'North America', \n",
    "                  'Germany':'Europe', \n",
    "                  'India':'Asia',\n",
    "                  'France':'Europe', \n",
    "                  'South Korea':'Asia', \n",
    "                  'Italy':'Europe', \n",
    "                  'Spain':'Europe', \n",
    "                  'Iran':'Asia',\n",
    "                  'Australia':'Australia', \n",
    "                  'Brazil':'South America'}\n",
    "    top15_gdp[\"bins\"] = pd.cut(top15_gdp[\"% Renewable\"], 5)\n",
    "    result=top15_gdp.groupby([ContinentDict, top15_gdp['bins']]).size()\n",
    "    \n",
    "    return result"
   ]
  },
  {
   "cell_type": "code",
   "execution_count": 77,
   "metadata": {},
   "outputs": [
    {
     "name": "stderr",
     "output_type": "stream",
     "text": [
      "C:\\Users\\57300\\AppData\\Local\\Temp\\ipykernel_17400\\3791049128.py:85: FutureWarning: A value is trying to be set on a copy of a DataFrame or Series through chained assignment using an inplace method.\n",
      "The behavior will change in pandas 3.0. This inplace method will never work because the intermediate object on which we are setting values always behaves as a copy.\n",
      "\n",
      "For example, when doing 'df[col].method(value, inplace=True)', try using 'df.method({col: value}, inplace=True)' or df[col] = df[col].method(value) instead, to perform the operation inplace on the original object.\n",
      "\n",
      "\n",
      "  gdp_df['Country'].replace({\"Korea, Rep.\": \"South Korea\",\n",
      "C:\\Users\\57300\\AppData\\Local\\Temp\\ipykernel_17400\\2231204751.py:30: FutureWarning: The default of observed=False is deprecated and will be changed to True in a future version of pandas. Pass observed=False to retain current behavior or observed=True to adopt the future default and silence this warning.\n",
      "  result=top15_gdp.groupby([ContinentDict, top15_gdp['bins']]).size()\n",
      "C:\\Users\\57300\\AppData\\Local\\Temp\\ipykernel_17400\\3791049128.py:85: FutureWarning: A value is trying to be set on a copy of a DataFrame or Series through chained assignment using an inplace method.\n",
      "The behavior will change in pandas 3.0. This inplace method will never work because the intermediate object on which we are setting values always behaves as a copy.\n",
      "\n",
      "For example, when doing 'df[col].method(value, inplace=True)', try using 'df.method({col: value}, inplace=True)' or df[col] = df[col].method(value) instead, to perform the operation inplace on the original object.\n",
      "\n",
      "\n",
      "  gdp_df['Country'].replace({\"Korea, Rep.\": \"South Korea\",\n",
      "C:\\Users\\57300\\AppData\\Local\\Temp\\ipykernel_17400\\2231204751.py:30: FutureWarning: The default of observed=False is deprecated and will be changed to True in a future version of pandas. Pass observed=False to retain current behavior or observed=True to adopt the future default and silence this warning.\n",
      "  result=top15_gdp.groupby([ContinentDict, top15_gdp['bins']]).size()\n"
     ]
    },
    {
     "name": "stdout",
     "output_type": "stream",
     "text": [
      "Country        bins            \n",
      "Asia           (2.212, 15.753]     4\n",
      "               (15.753, 29.227]    1\n",
      "               (29.227, 42.701]    0\n",
      "               (42.701, 56.174]    0\n",
      "               (56.174, 69.648]    0\n",
      "Australia      (2.212, 15.753]     1\n",
      "               (15.753, 29.227]    0\n",
      "               (29.227, 42.701]    0\n",
      "               (42.701, 56.174]    0\n",
      "               (56.174, 69.648]    0\n",
      "Europe         (2.212, 15.753]     1\n",
      "               (15.753, 29.227]    3\n",
      "               (29.227, 42.701]    2\n",
      "               (42.701, 56.174]    0\n",
      "               (56.174, 69.648]    0\n",
      "North America  (2.212, 15.753]     1\n",
      "               (15.753, 29.227]    0\n",
      "               (29.227, 42.701]    0\n",
      "               (42.701, 56.174]    0\n",
      "               (56.174, 69.648]    1\n",
      "South America  (2.212, 15.753]     0\n",
      "               (15.753, 29.227]    0\n",
      "               (29.227, 42.701]    0\n",
      "               (42.701, 56.174]    0\n",
      "               (56.174, 69.648]    1\n",
      "dtype: int64\n"
     ]
    },
    {
     "name": "stderr",
     "output_type": "stream",
     "text": [
      "C:\\Users\\57300\\AppData\\Local\\Temp\\ipykernel_17400\\3791049128.py:85: FutureWarning: A value is trying to be set on a copy of a DataFrame or Series through chained assignment using an inplace method.\n",
      "The behavior will change in pandas 3.0. This inplace method will never work because the intermediate object on which we are setting values always behaves as a copy.\n",
      "\n",
      "For example, when doing 'df[col].method(value, inplace=True)', try using 'df.method({col: value}, inplace=True)' or df[col] = df[col].method(value) instead, to perform the operation inplace on the original object.\n",
      "\n",
      "\n",
      "  gdp_df['Country'].replace({\"Korea, Rep.\": \"South Korea\",\n",
      "C:\\Users\\57300\\AppData\\Local\\Temp\\ipykernel_17400\\2231204751.py:30: FutureWarning: The default of observed=False is deprecated and will be changed to True in a future version of pandas. Pass observed=False to retain current behavior or observed=True to adopt the future default and silence this warning.\n",
      "  result=top15_gdp.groupby([ContinentDict, top15_gdp['bins']]).size()\n"
     ]
    }
   ],
   "source": [
    "# example of test cases\n",
    "print(answer_twelve())\n",
    "assert type(answer_twelve()) == pd.Series, \"Q12: You should return a Series!\"\n",
    "assert len(answer_twelve()) == 25, \"Q12: Wrong result numbers!\""
   ]
  },
  {
   "cell_type": "code",
   "execution_count": 78,
   "metadata": {},
   "outputs": [],
   "source": [
    "# space for proffesor tests"
   ]
  },
  {
   "cell_type": "markdown",
   "metadata": {},
   "source": [
    "## Problem 13\n",
    "\n",
    "Convert the _Population Estimate_ series to a string with thousands separator (using _dots_). Use all significant digits (do not round the results).\n",
    "\n",
    "e.g. 12345678.90 -> 12.345.678,90\n",
    "\n",
    "_This function should return a series `pop_est` whose index is the country name and whose values are the population estimate string_"
   ]
  },
  {
   "cell_type": "code",
   "execution_count": 96,
   "metadata": {},
   "outputs": [],
   "source": [
    "def answer_thirteen()->pd.Series:\n",
    "    \"\"\"\n",
    "    Format the estimated population for each country using dots.\n",
    "\n",
    "    The function calculates the estimated population for each country based on\n",
    "    energy supply and energy supply per capita, and formats the population estimate\n",
    "    with thousands separators.\n",
    "\n",
    "    Returns:\n",
    "    pd.Series: A Series with the formatted population estimate for each country.\n",
    "    \"\"\"\n",
    "    top15_gdp = answer_one()\n",
    "    top15_gdp['population_estimate'] = top15_gdp['Energy Supply'] / top15_gdp['Energy Supply per Capita']\n",
    "    top15_gdp['population_estimate'] = top15_gdp['population_estimate'].apply(lambda x: '{:,}'.format(x).replace(',', 'x').replace('.', ',').replace('x', '.'))\n",
    "    return top15_gdp['population_estimate']"
   ]
  },
  {
   "cell_type": "code",
   "execution_count": 97,
   "metadata": {},
   "outputs": [
    {
     "name": "stdout",
     "output_type": "stream",
     "text": [
      "Country\n",
      "China                 1.367,6451612903227\n",
      "United States          317,61538461538464\n",
      "Japan                  127,40939597315436\n",
      "United Kingdom          63,87096774193548\n",
      "Russian Federation                  143,5\n",
      "Canada                  35,23986486486486\n",
      "Germany                 80,36969696969697\n",
      "India                 1.276,7307692307693\n",
      "France                  63,83734939759036\n",
      "South Korea             49,80542986425339\n",
      "Italy                  59,908256880733944\n",
      "Spain                  46,443396226415096\n",
      "Iran                    77,07563025210084\n",
      "Australia              23,316017316017316\n",
      "Brazil                 205,91525423728814\n",
      "Name: population_estimate, dtype: object\n"
     ]
    },
    {
     "name": "stderr",
     "output_type": "stream",
     "text": [
      "C:\\Users\\57300\\AppData\\Local\\Temp\\ipykernel_17400\\3791049128.py:85: FutureWarning: A value is trying to be set on a copy of a DataFrame or Series through chained assignment using an inplace method.\n",
      "The behavior will change in pandas 3.0. This inplace method will never work because the intermediate object on which we are setting values always behaves as a copy.\n",
      "\n",
      "For example, when doing 'df[col].method(value, inplace=True)', try using 'df.method({col: value}, inplace=True)' or df[col] = df[col].method(value) instead, to perform the operation inplace on the original object.\n",
      "\n",
      "\n",
      "  gdp_df['Country'].replace({\"Korea, Rep.\": \"South Korea\",\n",
      "C:\\Users\\57300\\AppData\\Local\\Temp\\ipykernel_17400\\3791049128.py:85: FutureWarning: A value is trying to be set on a copy of a DataFrame or Series through chained assignment using an inplace method.\n",
      "The behavior will change in pandas 3.0. This inplace method will never work because the intermediate object on which we are setting values always behaves as a copy.\n",
      "\n",
      "For example, when doing 'df[col].method(value, inplace=True)', try using 'df.method({col: value}, inplace=True)' or df[col] = df[col].method(value) instead, to perform the operation inplace on the original object.\n",
      "\n",
      "\n",
      "  gdp_df['Country'].replace({\"Korea, Rep.\": \"South Korea\",\n",
      "C:\\Users\\57300\\AppData\\Local\\Temp\\ipykernel_17400\\3791049128.py:85: FutureWarning: A value is trying to be set on a copy of a DataFrame or Series through chained assignment using an inplace method.\n",
      "The behavior will change in pandas 3.0. This inplace method will never work because the intermediate object on which we are setting values always behaves as a copy.\n",
      "\n",
      "For example, when doing 'df[col].method(value, inplace=True)', try using 'df.method({col: value}, inplace=True)' or df[col] = df[col].method(value) instead, to perform the operation inplace on the original object.\n",
      "\n",
      "\n",
      "  gdp_df['Country'].replace({\"Korea, Rep.\": \"South Korea\",\n"
     ]
    }
   ],
   "source": [
    "# example of test cases\n",
    "print(answer_thirteen())\n",
    "assert type(answer_thirteen()) == pd.Series, \"Q13: You should return a Series!\"\n",
    "assert len(answer_thirteen()) == 15, \"Q13: Wrong result numbers!\""
   ]
  },
  {
   "cell_type": "code",
   "execution_count": 81,
   "metadata": {},
   "outputs": [],
   "source": [
    "# space for proffesor tests"
   ]
  }
 ],
 "metadata": {
  "kernelspec": {
   "display_name": "class-example",
   "language": "python",
   "name": "class_example"
  },
  "language_info": {
   "codemirror_mode": {
    "name": "ipython",
    "version": 3
   },
   "file_extension": ".py",
   "mimetype": "text/x-python",
   "name": "python",
   "nbconvert_exporter": "python",
   "pygments_lexer": "ipython3",
   "version": "3.11.9"
  }
 },
 "nbformat": 4,
 "nbformat_minor": 2
}
