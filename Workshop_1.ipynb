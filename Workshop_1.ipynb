{
 "cells": [
  {
   "cell_type": "markdown",
   "metadata": {},
   "source": [
    "# Workshop 1\n",
    "\n",
    "Here you're gonna test your __data scientist junior__ skills. Read carefully each one of the problems, write your own test cases, and validate everything works as expected."
   ]
  },
  {
   "cell_type": "markdown",
   "metadata": {},
   "source": [
    "## 1. Regular Expressions\n",
    "\n",
    "As follows complete the code based on the __requirement__. There is a part `#YOUR CODE HERE` where you _should complete_ to accomplish the task. However, you _could_ change anything you want."
   ]
  },
  {
   "cell_type": "markdown",
   "metadata": {},
   "source": [
    "### Problem 1.1\n",
    "\n",
    "Find a list of all of all of the names in the following string using _regex_."
   ]
  },
  {
   "cell_type": "code",
   "execution_count": 6,
   "metadata": {},
   "outputs": [],
   "source": [
    "import re\n",
    "from typing import List\n",
    "\n",
    "def names() -> List[str]:\n",
    "    \"\"\"\n",
    "    Extracts capitalized names from a given string.\n",
    "\n",
    "    This function searches for and returns all substrings in the input \n",
    "    string that start with a capital letter followed by lowercase letters.\n",
    "\n",
    "    Returns:\n",
    "        List[str]: A list of names found in the string.\n",
    "    \"\"\"\n",
    "    simple_string = \"\"\"Amy is 5 years old, and her sister Mary is 2 years old. \n",
    "    Ruth and Peter, their parents, have 3 kids.\"\"\"\n",
    "    \n",
    "    pattern = '[A-Z][a-z]*'\n",
    "    return re.findall(pattern, simple_string)"
   ]
  },
  {
   "cell_type": "code",
   "execution_count": 7,
   "metadata": {},
   "outputs": [],
   "source": [
    "# example of test case\n",
    "result=names()\n",
    "assert len(result) == 4, \"There are four names in the simple_string.\"\n",
    "expected_names = [\"Amy\", \"Mary\", \"Ruth\", \"Peter\"]\n",
    "assert result == expected_names, f\"The result should be {expected_names}, but got {result}.\"\n",
    "print(result)\n"
   ]
  },
  {
   "cell_type": "markdown",
   "metadata": {},
   "source": [
    "### Problem 1.2\n",
    "\n",
    "The _dataset file_ in [assets/grades.txt](./assets/grades.txt) contains a line separated _list of people_ with their __grade__ in a class. Create a _regex_ to generate a list of just those students who received a __B__ in the course."
   ]
  },
  {
   "cell_type": "code",
   "execution_count": 8,
   "metadata": {},
   "outputs": [],
   "source": [
    "import re\n",
    "from typing import List\n",
    "\n",
    "def grades() -> List[str]:\n",
    "    \"\"\"\n",
    "    Extracts names of students who received a grade of 'B' from a grades file.\n",
    "\n",
    "    This function reads a text file containing grades and returns the names of \n",
    "    students who received a grade of 'B'. Each name is expected to be in the format \n",
    "    'First Last'.\n",
    "\n",
    "    Returns:\n",
    "        List[str]: A list of names of students with a grade of 'B'.\n",
    "    \"\"\"\n",
    "    with open(\"assets/grades.txt\", \"r\") as file:\n",
    "        grades = file.read()\n",
    "    \n",
    "    pattern = '([A-Z][a-z]+ [A-Z][a-z]+): B'\n",
    "    grades_list = re.findall(pattern, grades)\n",
    "    \n",
    "    return grades_list\n"
   ]
  },
  {
   "cell_type": "code",
   "execution_count": 25,
   "metadata": {},
   "outputs": [
    {
     "name": "stdout",
     "output_type": "stream",
     "text": [
      "['Bell Kassulke', 'Simon Loidl', 'Elias Jovanovic', 'Hakim Botros', 'Emilie Lorentsen', 'Jake Wood', 'Fatemeh Akhtar', 'Kim Weston', 'Yasmin Dar', 'Viswamitra Upandhye', 'Killian Kaufman', 'Elwood Page', 'Elodie Booker', 'Adnan Chen', 'Hank Spinka', 'Hannah Bayer']\n"
     ]
    }
   ],
   "source": [
    "# example of test case\n",
    "print(grades())\n",
    "assert len(grades()) == 16\n"
   ]
  },
  {
   "cell_type": "markdown",
   "metadata": {},
   "source": [
    "### Problem 1.3\n",
    "\n",
    "Consider the standard _web log file_ in [assets/logdata.txt](./assets/logdata.txt). This _file_ records the _access_ a user makes when visiting a web page. Each __line of the log__ has the following _items_:\n",
    "\n",
    "- a __host__ (e.g., `146.204.224.152`)\n",
    "- a __user_name__ (e.g., `feest6811`. _Hint:_ sometimes the user name is missing! In this case, use `-` as the value for the username.)\n",
    "- the __time__ a request was made (e.g., `21/Jun/2019:15:45:24 -0700`)\n",
    "- the post __request type__ (e.g., `POST /incentivize HTTP/1.1`. _Note:_ not everything is a POST!)\n",
    "\n",
    "Your task is to convert this into a list of dictionaries, where each dictionary looks like the following:\n",
    "\n",
    "```python\n",
    "example_dict = {\"host\":\"146.204.224.152\", \n",
    "                \"user_name\":\"feest6811\", \n",
    "                \"time\":\"21/Jun/2019:15:45:24 -0700\",\n",
    "                \"request\":\"POST /incentivize HTTP/1.1\"}\n",
    "```"
   ]
  },
  {
   "cell_type": "code",
   "execution_count": 12,
   "metadata": {},
   "outputs": [],
   "source": [
    "import re\n",
    "from typing import List, Dict\n",
    "\n",
    "def logs() -> List[Dict[str, str]]:\n",
    "    \"\"\"\n",
    "    Extracts structured log data from a log file.\n",
    "\n",
    "    This function reads a log file and uses a regular expression to extract \n",
    "    specific fields from each log entry, returning them as a list of dictionaries.\n",
    "\n",
    "    Returns:\n",
    "        List[Dict[str, str]]: A list of dictionaries, each containing extracted log data.\n",
    "    \"\"\"\n",
    "    with open(\"assets/logdata.txt\", \"r\") as file:\n",
    "        logdata = file.read()\n",
    "    \n",
    "    pattern = \"\"\"\n",
    "    (?P<host>[\\d\\.]+)         # Host IP\n",
    "    (\\ -\\ )                   # Separator 1\n",
    "    (?P<user_name>\\S+|\\-)     # The User name doesn't have a space\n",
    "    (\\s\\[)                    # Space and brackets for the time delimitation\n",
    "    (?P<time>[^\\]]+)          # Time of requisition\n",
    "    (\\]\\s\\\")                  # Separator of Requisition\n",
    "    (?P<request>.*?)          # Request Specs\n",
    "    (\"\\s)                     # Separator before status code\n",
    "    \"\"\"\n",
    "\n",
    "    result = []\n",
    "    for item in re.finditer(pattern, logdata, re.VERBOSE):\n",
    "        result.append(item.groupdict())\n",
    "    \n",
    "    return result\n"
   ]
  },
  {
   "cell_type": "code",
   "execution_count": 13,
   "metadata": {},
   "outputs": [],
   "source": [
    "# example of test case\n",
    "one_item = {\n",
    "    \"host\": \"146.204.224.152\",\n",
    "    \"user_name\": \"feest6811\",\n",
    "    \"time\": \"21/Jun/2019:15:45:24 -0700\",\n",
    "    \"request\": \"POST /incentivize HTTP/1.1\",\n",
    "}\n",
    "assert (\n",
    "    one_item in logs()\n",
    "), \"Sorry, this item should be in the log results, check your formating\"\n",
    "print(logs())"
   ]
  },
  {
   "cell_type": "markdown",
   "metadata": {},
   "source": [
    "# 2. Descriptive Analysis\n",
    "\n",
    "For this section, you'll be looking at _2017 data on immunizations_ from the _CDC_. Your _datafile_ for next tasks is in [assets/NISPUF17.csv](./assets/NISPUF17.csv). A _data users guide_ for this, which you'll need to map the variables in the data to the questions being asked, is available at [assets/NIS-PUF17-DUG.pdf](./assets/NIS-PUF17-DUG.pdf)."
   ]
  },
  {
   "cell_type": "markdown",
   "metadata": {},
   "source": [
    "# Problem 2.1\n",
    "\n",
    "Write a function called _proportion\\_of\\_education_ which returns the proportion of __children__ in the dataset who had a mother with the education levels equal to less than high school ($<12$), high school ($12$), more than high school but not a college graduate ($>12$) and _college degree_.\n",
    "\n",
    "This _function_ should return a __dictionary__ in the form of (use the _correct numbers_, do not round numbers):\n",
    "\n",
    "```python\n",
    "{\n",
    "    \"less than high school\": 0.2,\n",
    "    \"high school\": 0.4,\n",
    "    \"more than high school but not college\": 0.2,\n",
    "    \"college\": 0.2\n",
    "}\n",
    "```"
   ]
  },
  {
   "cell_type": "code",
   "execution_count": 15,
   "metadata": {},
   "outputs": [],
   "source": [
    "\n",
    "import pandas as pd\n",
    "import numpy as np\n",
    "from typing import Dict\n",
    "\n",
    "def proportion_of_education() -> Dict[str, float]:\n",
    "    \"\"\"\n",
    "    Calculates the proportion of different education levels in a dataset.\n",
    "\n",
    "    This function reads a dataset from a CSV file, calculates the proportion of \n",
    "    individuals with different levels of education, and returns these proportions \n",
    "    as a dictionary.\n",
    "\n",
    "    Returns:\n",
    "        Dict[str, float]: A dictionary with education levels as keys and their \n",
    "                          respective proportions as values.\n",
    "    \"\"\"\n",
    "    df = pd.read_csv(\"assets/NISPUF17.csv\", index_col=0)\n",
    "    \n",
    "    # Extract the education column\n",
    "    edus = df['EDUC1'].values\n",
    "    \n",
    "    # Dictionary to store the proportions of each education level\n",
    "    poe = {\n",
    "        \"less than high school\": 0.0,\n",
    "        \"high school\": 0.0,\n",
    "        \"more than high school but not college\": 0.0,\n",
    "        \"college\": 0.0\n",
    "    }\n",
    "    \n",
    "    n = len(edus)\n",
    "    \n",
    "    # Calculate the proportion of each education level\n",
    "    poe[\"less than high school\"] = np.sum(edus == 1) / n\n",
    "    poe[\"high school\"] = np.sum(edus == 2) / n\n",
    "    poe[\"more than high school but not college\"] = np.sum(edus == 3) / n\n",
    "    poe[\"college\"] = np.sum(edus == 4) / n\n",
    "    \n",
    "    return poe\n"
   ]
  },
  {
   "cell_type": "code",
   "execution_count": 21,
   "metadata": {},
   "outputs": [],
   "source": [
    "# example of test cases\n",
    "result=proportion_of_education()\n",
    "assert type(result) == type({}), \"You must return a dictionary.\"\n",
    "assert (\n",
    "    len(result) == 4\n",
    "), \"You have not returned a dictionary with four items in it.\"\n",
    "expected_keys=['less than high school', 'high school', 'more than high school but not college', 'college']\n",
    "assert (list(result.keys())==expected_keys),\"you are not using the expected keys in your dictionary\"\n",
    "print(result)\n"
   ]
  },
  {
   "cell_type": "markdown",
   "metadata": {},
   "source": [
    "## Problem 2.2\n",
    "\n",
    "Let's explore the relationship between being _fed breastmilk_ as a child and getting a seasonal _influenza vaccine_ from a healthcare provider. Return a __tuple__ of the _average number of influenza vaccines_ for those children we know received breastmilk as a child and those who know did not.\n",
    "\n",
    "This _function_ should return a __tuple__ in the form (use the _correct numbers_):\n",
    "\n",
    "```python\n",
    "(2.5, 0.1)\n",
    "```"
   ]
  },
  {
   "cell_type": "code",
   "execution_count": 23,
   "metadata": {},
   "outputs": [],
   "source": [
    "import pandas as pd\n",
    "from typing import Tuple\n",
    "\n",
    "def average_influenza_doses() -> Tuple[float, float]:\n",
    "    \"\"\"\n",
    "    Calculates the average number of influenza doses for breastfed and non-breastfed children.\n",
    "\n",
    "    This function reads a dataset from a CSV file, computes the average number of \n",
    "    influenza doses for children who were breastfed and those who were not, and returns \n",
    "    these averages as a tuple.\n",
    "\n",
    "    Returns:\n",
    "        Tuple[float, float]: A tuple containing the average number of influenza doses \n",
    "                             for breastfed children and non-breastfed children.\n",
    "    \"\"\"\n",
    "    df = pd.read_csv('assets/NISPUF17.csv', index_col=0)\n",
    "    \n",
    "    # Filter data for breastfed children\n",
    "    BF_Flu = df[df['CBF_01'] == 1]\n",
    "    avg_BF = BF_Flu['P_NUMFLU'].mean()\n",
    "    \n",
    "    # Filter data for non-breastfed children\n",
    "    NBF_Flu = df[df['CBF_01'] == 2]\n",
    "    avg_NBF = NBF_Flu['P_NUMFLU'].mean()\n",
    "    \n",
    "    # Create a tuple with the averages\n",
    "    result = (avg_BF, avg_NBF)\n",
    "    return result\n",
    "\n"
   ]
  },
  {
   "cell_type": "code",
   "execution_count": 24,
   "metadata": {},
   "outputs": [],
   "source": [
    "# example of test cases\n",
    "result=average_influenza_doses()\n",
    "assert (\n",
    "    len(result) == 2\n",
    "), \"Return two values in a tuple, the first for yes and the second for no.\"\n",
    "assert result[0] >= 0, \"The average number of doses for breastfed children should be non-negative.\"\n",
    "assert result[1] >= 0, \"The average number of doses for non-breastfed children should be non-negative.\"\n",
    "print(result)\n"
   ]
  },
  {
   "cell_type": "markdown",
   "metadata": {},
   "source": [
    "## Problem 2.3\n",
    "\n",
    "It would be interesting to see if there is any evidence of a link between _vaccine effectiveness_ and _sex of the child_. Calculate the _ratio of the number of children_ who contracted __chickenpox__ but _were vaccinated against it_ (at least one varicella dose) versus those who were vaccinated but did not contract _chicken pox_. Return results by _sex_.\n",
    "\n",
    "This _function_ should return a __dictionary__ in the form of (use the _correct numbers_):\n",
    "\n",
    "```python\n",
    "{\n",
    "    \"male\":0.2,\n",
    "    \"female\":0.4\n",
    "}\n",
    "```\n",
    "\n",
    "_Note:_ To aid in verification, the `chickenpox_by_sex()['female']` value the autograder is looking for starts with the digits `0.0077`.\n"
   ]
  },
  {
   "cell_type": "code",
   "execution_count": 25,
   "metadata": {},
   "outputs": [],
   "source": [
    "import pandas as pd\n",
    "from typing import Dict\n",
    "\n",
    "def chickenpox_by_sex() -> Dict[str, float]:\n",
    "    \"\"\"\n",
    "    Calculates the ratio of children who had chickenpox to those who didn't, \n",
    "    separated by sex, among those who received at least one dose of varicella vaccine.\n",
    "\n",
    "    This function reads a dataset from a CSV file, filters the data for children \n",
    "    who received at least one dose of the varicella vaccine, and computes the ratio \n",
    "    of children who had chickenpox to those who did not for both males and females.\n",
    "\n",
    "    Returns:\n",
    "        Dict[str, float]: A dictionary with the ratios for males and females.\n",
    "    \"\"\"\n",
    "    df = pd.read_csv('assets/NISPUF17.csv')\n",
    "    \n",
    "    # Filter data for children who received at least one dose of varicella vaccine\n",
    "    c_vaccinated = df[df['P_NUMVRC'] > 0]\n",
    "    \n",
    "    # Calculate ratio for males\n",
    "    men_stats = c_vaccinated[c_vaccinated['SEX'] == 1]\n",
    "    m_no_cpox = len(men_stats[men_stats['HAD_CPOX'] == 2])\n",
    "    men_ratio = len(men_stats[men_stats['HAD_CPOX'] == 1]) / m_no_cpox\n",
    "    \n",
    "    # Calculate ratio for females\n",
    "    women_stats = c_vaccinated[c_vaccinated['SEX'] == 2]\n",
    "    w_no_cpox = len(women_stats[women_stats['HAD_CPOX'] == 2])\n",
    "    women_ratio = len(women_stats[women_stats['HAD_CPOX'] == 1]) / w_no_cpox\n",
    "    \n",
    "    # Store the ratios in a dictionary\n",
    "    ratios = {'male': men_ratio, 'female': women_ratio}\n",
    "    \n",
    "    return ratios\n"
   ]
  },
  {
   "cell_type": "code",
   "execution_count": 26,
   "metadata": {},
   "outputs": [],
   "source": [
    "result=chickenpox_by_sex()\n",
    "assert result['male'] >= 0, \"The ratio for 'male' should be non-negative.\"\n",
    "assert result['female'] >= 0, \"The ratio for 'female' should be non-negative.\"\n",
    "print(result)"
   ]
  },
  {
   "cell_type": "markdown",
   "metadata": {},
   "source": [
    "## Problem 2.4\n",
    "\n",
    "A __correlation__ is a _statistical relationship_ between two variables. If we wanted to know _if vaccines work_, we might look at the correlation between the use of the vaccine and whether it results in prevention of the infection or disease. In this task, you are to see if there is a correlation between _having had the chicken pox_ and the _number of chickenpox vaccine doses given_ (varicella).\n",
    "\n",
    "Some notes on interpreting the answer. The `had_chickenpox_column` is either $1$ (for _yes_) or $2$ (for _no_), and the `num_chickenpox_vaccine_column` is the number of doses a child has been given of the varicella vaccine. A _positive correlation_ (e.g., $corr > 0$) means that an increase in _had\\_chickenpox\\_column_ (which means more _no_’s) would also increase the values of _num\\_chickenpox\\_vaccine\\_column_ (which means _more doses of vaccine_). If there is a _negative correlation_ (e.g., $corr < 0$), it indicates that having had chickenpox is related to an increase in the number of vaccine doses.\n",
    "\n",
    "Also, $pval$ is the probability that we observe a correlation between _had\\_chickenpox\\_column_ and _num\\_chickenpox\\_vaccine\\_column_ which is greater than or equal to a particular value occurred by chance. A _small pval_ means that the observed correlation is highly unlikely to occur by chance. In this case, _pval_ should be very small (will end in $e-18$ indicating a very small number)."
   ]
  },
  {
   "cell_type": "code",
   "execution_count": 27,
   "metadata": {},
   "outputs": [],
   "source": [
    "import scipy.stats as stats\n",
    "import pandas as pd\n",
    "def corr_chickenpox() -> float:\n",
    "    \"\"\"\n",
    "    Calculates the Pearson correlation coefficient between having had chickenpox and \n",
    "    the number of varicella vaccine doses received.\n",
    "\n",
    "    This function reads a dataset from a CSV file, filters the data to include only \n",
    "    valid entries for having had chickenpox (HAD_CPOX) and the number of varicella \n",
    "    vaccine doses (P_NUMVRC), and calculates the Pearson correlation coefficient \n",
    "    between these two variables.\n",
    "\n",
    "    Returns:\n",
    "        float: The Pearson correlation coefficient.\n",
    "    \"\"\"\n",
    "    df = pd.read_csv('assets/NISPUF17.csv')\n",
    "    dfi = df[[\"HAD_CPOX\", \"P_NUMVRC\"]].copy().dropna()\n",
    "    dfnew = dfi[dfi[\"HAD_CPOX\"] <= 2]\n",
    "    corr, pval = stats.pearsonr(dfnew[\"HAD_CPOX\"], dfnew[\"P_NUMVRC\"])\n",
    "    return corr"
   ]
  },
  {
   "cell_type": "code",
   "execution_count": 28,
   "metadata": {},
   "outputs": [
    {
     "name": "stdout",
     "output_type": "stream",
     "text": [
      "0.07044873460147985\n"
     ]
    }
   ],
   "source": [
    "# example of test cases\n",
    "assert (\n",
    "    -1 <= corr_chickenpox() <= 1\n",
    "), \"You must return a float number between -1.0 and 1.0.\"\n",
    "print (corr_chickenpox())"
   ]
  }
 ],
 "metadata": {
  "kernelspec": {
   "display_name": "class-example",
   "language": "python",
   "name": "class_example"
  },
  "language_info": {
   "codemirror_mode": {
    "name": "ipython",
    "version": 3
   },
   "file_extension": ".py",
   "mimetype": "text/x-python",
   "name": "python",
   "nbconvert_exporter": "python",
   "pygments_lexer": "ipython3",
   "version": "3.11.9"
  }
 },
 "nbformat": 4,
 "nbformat_minor": 2
}
